{
 "cells": [
  {
   "cell_type": "code",
   "execution_count": null,
   "metadata": {},
   "outputs": [],
   "source": [
    "import matplotlib.pyplot as plt\n",
    "import numpy as np\n",
    "import random\n",
    "import tqdm\n",
    "import pandas as pd"
   ]
  },
  {
   "cell_type": "code",
   "execution_count": null,
   "metadata": {},
   "outputs": [],
   "source": [
    "import matplotlib\n",
    "import matplotlib.font_manager as fm\n",
    "fm.get_fontconfig_fonts()\n",
    "# font_location = '/usr/share/fonts/truetype/nanum/NanumGothicOTF.ttf'\n",
    "font_location = 'C:/Windows/Fonts/NanumGothicCoding.ttf' # For Windows\n",
    "font_name = fm.FontProperties(fname=font_location).get_name()\n",
    "matplotlib.rc('font', family=font_name)\n",
    "\n",
    "%matplotlib inline"
   ]
  },
  {
   "cell_type": "code",
   "execution_count": null,
   "metadata": {},
   "outputs": [],
   "source": [
    "import os\n",
    "cwd = os.getcwd()"
   ]
  },
  {
   "cell_type": "code",
   "execution_count": null,
   "metadata": {},
   "outputs": [],
   "source": [
    "from typing import Tuple, List\n",
    "Vector = List[float]"
   ]
  },
  {
   "cell_type": "code",
   "execution_count": null,
   "metadata": {},
   "outputs": [],
   "source": [
    "import time\n",
    "now_time = 1610366047.3755555\n",
    "to_do = \"함수 least_squares_fit을 작성하기 위해 stats 파일에 있는 기초함수를 구현한다\"\n",
    "page = 202"
   ]
  },
  {
   "cell_type": "markdown",
   "metadata": {},
   "source": [
    "#### 21-01-13"
   ]
  },
  {
   "cell_type": "code",
   "execution_count": null,
   "metadata": {},
   "outputs": [],
   "source": [
    "os.chdir('C:/Users/jongh/OneDrive/python/machine-learning/Data-Science-from-Scratch-master/code-python3')\n",
    "from stats import correlation, standard_deviation, mean, num_friends_good, daily_minutes_good, de_mean\n",
    "from gradient_descent import step\n",
    "os.chdir(cwd)"
   ]
  },
  {
   "cell_type": "code",
   "execution_count": null,
   "metadata": {},
   "outputs": [],
   "source": [
    "x = [i for i in range(-100, 110, 10)]\n",
    "y = [3*i-5 for i in x]"
   ]
  },
  {
   "cell_type": "code",
   "execution_count": null,
   "metadata": {},
   "outputs": [],
   "source": [
    "def least_square_fit(x:Vector, y:Vector)->Tuple[float, float]:\n",
    "    beta = correlation(x, y) * standard_deviation(y) / standard_deviation(x)\n",
    "    alpha = mean(y) - beta * mean(x)\n",
    "    return alpha, beta\n",
    "\n",
    "assert least_square_fit(x, y) == (-5, 3)"
   ]
  },
  {
   "cell_type": "code",
   "execution_count": null,
   "metadata": {},
   "outputs": [],
   "source": [
    "_alpha, _beta = least_square_fit(num_friends_good, daily_minutes_good)"
   ]
  },
  {
   "cell_type": "code",
   "execution_count": null,
   "metadata": {},
   "outputs": [],
   "source": [
    "def predict(alpha, beta, x_i):\n",
    "    x_i = np.array(x_i)\n",
    "    return beta * x_i + alpha"
   ]
  },
  {
   "cell_type": "code",
   "execution_count": null,
   "metadata": {},
   "outputs": [],
   "source": [
    "_predict = predict(_alpha, _beta, num_friends_good)\n",
    "# _predict"
   ]
  },
  {
   "cell_type": "code",
   "execution_count": null,
   "metadata": {},
   "outputs": [],
   "source": [
    "plt.title('최소자승법(least squares fit)을 이용한 사용시간 예측')\n",
    "plt.plot(num_friends_good, _predict)\n",
    "plt.scatter(num_friends_good, daily_minutes_good)\n",
    "plt.show()"
   ]
  },
  {
   "cell_type": "code",
   "execution_count": null,
   "metadata": {},
   "outputs": [],
   "source": [
    "def error(alpha, beta, x_i, y_i):\n",
    "    y_i = np.array(y_i)\n",
    "    return predict(alpha, beta, x_i) - y_i"
   ]
  },
  {
   "cell_type": "code",
   "execution_count": null,
   "metadata": {},
   "outputs": [],
   "source": [
    "_error = error(_alpha, _beta, num_friends_good, daily_minutes_good)"
   ]
  },
  {
   "cell_type": "code",
   "execution_count": null,
   "metadata": {},
   "outputs": [],
   "source": [
    "_df = pd.DataFrame(_error, columns=['error'])\n",
    "# category = pd.cut(_df['error'], 30)\n",
    "_df['error'].hist(bins=20)\n",
    "plt.show()"
   ]
  },
  {
   "cell_type": "code",
   "execution_count": null,
   "metadata": {},
   "outputs": [],
   "source": [
    "def sum_of_sqerrors(alpha, beta, x, y):\n",
    "    _error = error(_alpha, _beta, x, y)    \n",
    "    return sum(_error ** 2)"
   ]
  },
  {
   "cell_type": "code",
   "execution_count": null,
   "metadata": {},
   "outputs": [],
   "source": [
    "def total_sum_of_squares(y):\n",
    "    y = np.array(y)\n",
    "    y_bar = np.mean(y)\n",
    "    return sum((y - y_bar) ** 2)"
   ]
  },
  {
   "cell_type": "code",
   "execution_count": null,
   "metadata": {},
   "outputs": [],
   "source": [
    "sse = sum_of_sqerrors(_alpha, _beta, num_friends_good, daily_minutes_good)\n",
    "sst = total_sum_of_squares(daily_minutes_good)\n",
    "length = len(daily_minutes_good)\n",
    "_mean = np.array(daily_minutes_good).mean()"
   ]
  },
  {
   "cell_type": "code",
   "execution_count": null,
   "metadata": {},
   "outputs": [],
   "source": [
    "def r_squared(alpha: float, beta: float, x: Vector, y: Vector) -> float:\n",
    "    \"\"\"\n",
    "    모델이 잡아낼 있는 y의 변화량의 비율은\n",
    "    1 - 모델이 잡아내지 못하는 y의 변화량의 비율로 계산할 수 있다.\n",
    "    \"\"\"\n",
    "    sse = sum_of_sqerrors(alpha, beta, x, y)\n",
    "    sst = total_sum_of_squares(y)\n",
    "    return 1 - (sse/sst)"
   ]
  },
  {
   "cell_type": "code",
   "execution_count": null,
   "metadata": {},
   "outputs": [],
   "source": [
    "rsq = r_squared(_alpha, _beta, num_friends_good, daily_minutes_good)\n",
    "rsq"
   ]
  },
  {
   "cell_type": "code",
   "execution_count": null,
   "metadata": {},
   "outputs": [],
   "source": [
    "y_bar = np.array(daily_minutes_good).mean()"
   ]
  },
  {
   "cell_type": "code",
   "execution_count": null,
   "metadata": {},
   "outputs": [],
   "source": [
    "(sum(error(_alpha, _beta, num_friends_good, daily_minutes_good) ** 2) / length) ** (1/2)"
   ]
  },
  {
   "cell_type": "code",
   "execution_count": null,
   "metadata": {},
   "outputs": [],
   "source": [
    "plt.scatter(num_friends_good, daily_minutes_good)\n",
    "_x = np.arange(-0, 55)\n",
    "plt.plot(_x, _x * _beta + _alpha, c='orange')\n",
    "plt.title(\"using time depending on num of friends\")\n",
    "plt.xlabel(\"num_friends_good\")\n",
    "plt.ylabel(\"daily_minutes_good\")\n",
    "\n",
    "plt.hlines(_mean, 0, 50,  colors='r')\n",
    "plt.legend(['prediction', 'real data', 'mean-y'])\n",
    "\n",
    "plt.show()"
   ]
  },
  {
   "cell_type": "markdown",
   "metadata": {},
   "source": [
    "## 14.2 경사 하강법 사용하기"
   ]
  },
  {
   "cell_type": "code",
   "execution_count": null,
   "metadata": {},
   "outputs": [],
   "source": [
    "random.seed(0)\n",
    "guess = [random.random(), random.random()]\n",
    "lr = 1e-5\n",
    "num_epochs = 10000\n",
    "\n",
    "alpha, beta = guess\n",
    "/print guess\n",
    "\n",
    "loss = sum_of_sqerrors(alpha, beta, num_friends_good, daily_minutes_good)\n",
    "\n",
    "with tqdm.trange(num_epochs) as t:\n",
    "    for _ in t:\n",
    "        alpha,beta = guess\n",
    "        grad_a = sum(2 * error(alpha, beta, num_friends_good, daily_minutes_good))\n",
    "        \n",
    "        grad_b = sum(2*error(alpha, beta, num_friends_good, daily_minutes_good)*num_friends_good)\n",
    "        \n",
    "        loss = sum_of_sqerrors(alpha, beta, num_friends_good, daily_minutes_good)\n",
    "        t.set_description(f\"loss: {loss:.3f}\")\n",
    "        \n",
    "        guess = step(guess, [grad_a, grad_b], -lr)\n",
    "\n",
    "alpha, beta = guess\n",
    "alpha, beta"
   ]
  },
  {
   "cell_type": "markdown",
   "metadata": {},
   "source": [
    "### https://brunch.co.kr/@zhoyp/169"
   ]
  },
  {
   "cell_type": "code",
   "execution_count": null,
   "metadata": {},
   "outputs": [],
   "source": [
    "index = ['철수', '영희', '순이', '갑돌', '기영']\n",
    "columns = ['키', '몸무게']\n",
    "sta_df = pd.DataFrame(index=index, columns=columns)"
   ]
  },
  {
   "cell_type": "code",
   "execution_count": null,
   "metadata": {},
   "outputs": [],
   "source": [
    "sta_df['키'] = [100, 90, 105, 110, 95]\n",
    "sta_df['몸무게'] = [50, 45, 60, 55, 40]\n",
    "sta_df"
   ]
  },
  {
   "cell_type": "code",
   "execution_count": null,
   "metadata": {},
   "outputs": [],
   "source": [
    "height_mean = sta_df['키'].mean()\n",
    "weight_mean = sta_df['몸무게'].mean()"
   ]
  },
  {
   "cell_type": "code",
   "execution_count": null,
   "metadata": {},
   "outputs": [],
   "source": [
    "height_std = sta_df['키'].std(ddof=0)\n",
    "weight_std = sta_df['몸무게'].std(ddof=0)"
   ]
  },
  {
   "cell_type": "code",
   "execution_count": null,
   "metadata": {},
   "outputs": [],
   "source": [
    "sta_df['stndard_height'] = (sta_df['키'] - height_mean) / height_std"
   ]
  },
  {
   "cell_type": "code",
   "execution_count": null,
   "metadata": {},
   "outputs": [],
   "source": [
    "sta_df['stndard_weight'] = (sta_df['몸무게'] - weight_mean) / weight_std"
   ]
  },
  {
   "cell_type": "code",
   "execution_count": null,
   "metadata": {},
   "outputs": [],
   "source": [
    "sta_df['standard_height*weight'] = sta_df['stndard_height'] * sta_df['stndard_weight']"
   ]
  },
  {
   "cell_type": "code",
   "execution_count": null,
   "metadata": {},
   "outputs": [],
   "source": [
    "sta_df"
   ]
  },
  {
   "cell_type": "code",
   "execution_count": null,
   "metadata": {},
   "outputs": [],
   "source": [
    "상관계수 = sta_df['standard_height*weight'].mean()\n",
    "상관계수"
   ]
  },
  {
   "cell_type": "markdown",
   "metadata": {},
   "source": [
    "### https://www.youtube.com/watch?v=XhC1RQimW-g"
   ]
  },
  {
   "cell_type": "code",
   "execution_count": null,
   "metadata": {},
   "outputs": [],
   "source": [
    "os.chdir('C:/Users/jongh/OneDrive/python/machine-learning/data')\n",
    "housedata = pd.read_csv('kc_house_data.csv')\n",
    "os.chdir(cwd)"
   ]
  },
  {
   "cell_type": "code",
   "execution_count": null,
   "metadata": {},
   "outputs": [],
   "source": [
    "housedata.columns"
   ]
  },
  {
   "cell_type": "code",
   "execution_count": null,
   "metadata": {},
   "outputs": [],
   "source": [
    "plt.scatter(housedata['sqft_living'], housedata['price']/1000)\n",
    "plt.show()"
   ]
  }
 ],
 "metadata": {
  "kernelspec": {
   "display_name": "Python 3",
   "language": "python",
   "name": "python3"
  },
  "language_info": {
   "codemirror_mode": {
    "name": "ipython",
    "version": 3
   },
   "file_extension": ".py",
   "mimetype": "text/x-python",
   "name": "python",
   "nbconvert_exporter": "python",
   "pygments_lexer": "ipython3",
   "version": "3.8.5"
  }
 },
 "nbformat": 4,
 "nbformat_minor": 4
}
