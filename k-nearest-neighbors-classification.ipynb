{
 "cells": [
  {
   "cell_type": "code",
   "execution_count": null,
   "metadata": {},
   "outputs": [],
   "source": [
    "import os\n",
    "import matplotlib.pyplot as plt"
   ]
  },
  {
   "cell_type": "markdown",
   "metadata": {},
   "source": [
    "# 12장 k-NN"
   ]
  },
  {
   "cell_type": "markdown",
   "metadata": {},
   "source": [
    "## 12.1 모델"
   ]
  },
  {
   "cell_type": "code",
   "execution_count": null,
   "metadata": {},
   "outputs": [],
   "source": [
    "from typing import List\n",
    "from collections import Counter"
   ]
  },
  {
   "cell_type": "markdown",
   "metadata": {},
   "source": [
    "### 투표 집계 함수"
   ]
  },
  {
   "cell_type": "code",
   "execution_count": null,
   "metadata": {},
   "outputs": [],
   "source": [
    "testList = ['a', 'b', 'c', 'b']\n",
    "sameList = ['a', 'b', 'c', 'b', 'a']"
   ]
  },
  {
   "cell_type": "markdown",
   "metadata": {},
   "source": [
    "#### 투표집계함수: 동점처리불가"
   ]
  },
  {
   "cell_type": "code",
   "execution_count": null,
   "metadata": {},
   "outputs": [],
   "source": [
    "'''\n",
    "가장 많이 등장하는 값을 반환한다.\n",
    "동점인 항목을 똑똑하게 처리하지 못하는 문제가 있다.\n",
    "'''\n",
    "def raw_majority_vote(labels: List[str]) -> str:\n",
    "    votes = Counter(labels)\n",
    "    winner, _ = votes.most_common(1)[0]\n",
    "    return winner\n",
    "\n",
    "assert raw_majority_vote(testList) == 'b'\n",
    "assert raw_majority_vote(sameList) == 'a'"
   ]
  },
  {
   "cell_type": "markdown",
   "metadata": {},
   "source": [
    "#### 투표집계함수: 동정처리가능"
   ]
  },
  {
   "cell_type": "code",
   "execution_count": null,
   "metadata": {},
   "outputs": [],
   "source": [
    "'''\n",
    "단독 1등이 생길 때까지 k를 하나씩 줄인다.\n",
    "['a', 'b', 'c', 'b', 'a'] >>> ['a', 'b', 'c', 'b'] >>> ['a', 'b', 'c'] >>> ...\n",
    "'''\n",
    "def majority_vote(labels: List[str]) -> str:\n",
    "    winner, value = Counter(labels).most_common(1)[0]\n",
    "    num_winners = len([count for count in Counter(labels).values() if(count == value)])\n",
    "    #/print winner\n",
    "    if(num_winners == 1):\n",
    "        return winner\n",
    "    else:\n",
    "        return majority_vote(labels[:-1])"
   ]
  },
  {
   "cell_type": "code",
   "execution_count": null,
   "metadata": {},
   "outputs": [],
   "source": [
    "os.chdir(\"C:\\\\Users\\\\jongh\\\\OneDrive\\\\python\\\\machine-learning\\\\Data-Science-from-Scratch-master\\\\code-python3\")\n",
    "\n",
    "from typing import NamedTuple\n",
    "from linear_algebra import distance\n",
    "from machine_learning import split_data\n",
    "\n",
    "os.chdir(\"C:\\\\Users\\\\jongh\\\\OneDrive\\\\python\\\\machine-learning\")"
   ]
  },
  {
   "cell_type": "code",
   "execution_count": null,
   "metadata": {},
   "outputs": [],
   "source": [
    "Vector = List[float]"
   ]
  },
  {
   "cell_type": "code",
   "execution_count": null,
   "metadata": {},
   "outputs": [],
   "source": [
    "class LabeledPoint(NamedTuple):\n",
    "    point: Vector\n",
    "    label: str"
   ]
  },
  {
   "cell_type": "markdown",
   "metadata": {},
   "source": [
    "## 12.2 예시: Iris 데이터"
   ]
  },
  {
   "cell_type": "code",
   "execution_count": null,
   "metadata": {},
   "outputs": [],
   "source": [
    "def knn_classify(k: int,\n",
    "                 labeled_points: List[LabeledPoint],\n",
    "                 new_point: Vector) -> str:\n",
    "    \n",
    "    # 레이블된 포인트를 가장 가까운 데이터부터 가장 먼 데이터 순서로 정렬\n",
    "    by_distance = sorted(labeled_points,\n",
    "                         key=lambda lp:distance(lp.point, new_point))\n",
    "    \n",
    "    # 가장 가까운 k 데이터 포인트의 레이블을 살펴보고\n",
    "    k_nearest_labels = [lp.label for lp in by_distance[:k]]\n",
    "    \n",
    "    # 투표한다.\n",
    "    return majority_vote(k_nearest_labels)"
   ]
  },
  {
   "cell_type": "code",
   "execution_count": null,
   "metadata": {},
   "outputs": [],
   "source": [
    "def knn_classify(k: int,\n",
    "                 labeled_points: List[LabeledPoint],\n",
    "                 new_point: Vector) -> str:\n",
    "    \n",
    "    # 레이블된 포인트를 가장 가까운 데이터부터 가장 먼 데이터 순서로 정렬\n",
    "    by_distance = sorted(labeled_points,\n",
    "                         key=lambda lp:distance(lp.point, new_point))\n",
    "    \n",
    "    # 가장 가까운 k 데이터 포인트의 레이블을 살펴보고\n",
    "    k_nearest_labels = [lp.label for lp in by_distance[:k]]\n",
    "    \n",
    "    # 투표한다.\n",
    "    return majority_vote(k_nearest_labels)"
   ]
  },
  {
   "cell_type": "markdown",
   "metadata": {},
   "source": [
    "### 데이터 불러오기"
   ]
  },
  {
   "cell_type": "code",
   "execution_count": null,
   "metadata": {},
   "outputs": [],
   "source": [
    "import requests"
   ]
  },
  {
   "cell_type": "code",
   "execution_count": null,
   "metadata": {},
   "outputs": [],
   "source": [
    "datapath = 'https://archive.ics.uci.edu/ml/machine-learning-databases/iris/iris.data'\n",
    "data = requests.get(datapath)"
   ]
  },
  {
   "cell_type": "code",
   "execution_count": null,
   "metadata": {},
   "outputs": [],
   "source": [
    "'''\n",
    "서버에서 받은 iris.data 파일이 파일 뒤에 두줄의 공백이 생김 제거하여야 제대로 작동\n",
    "'''\n",
    "#with open('iris.dat', 'w') as f:\n",
    "#     f.write(data.text)"
   ]
  },
  {
   "cell_type": "code",
   "execution_count": null,
   "metadata": {},
   "outputs": [],
   "source": [
    "from typing import Dict\n",
    "import csv\n",
    "from collections import defaultdict"
   ]
  },
  {
   "cell_type": "code",
   "execution_count": null,
   "metadata": {},
   "outputs": [],
   "source": [
    "def parse_iris_row(row: List[str]) -> LabeledPoint:\n",
    "    '''\n",
    "    꽃받침 길이, 꽃받침 너비, 꽃잎 길이, 꽃잎 너비, 분류\n",
    "    '''\n",
    "    measurements = [float(value) for value in row[:-1]]\n",
    "    # 분류는 \"Iris-virginica\"와 같이 나오는데 그중 \"virginica\"만 뽑아오자.\n",
    "    label = row[-1].split(\"-\")[-1]\n",
    "    return LabeledPoint(measurements, label)"
   ]
  },
  {
   "cell_type": "code",
   "execution_count": null,
   "metadata": {},
   "outputs": [],
   "source": [
    "with open('iris.dat') as f:\n",
    "    reader = csv.reader(f)\n",
    "    iris_data = [parse_iris_row(row) for row in reader]"
   ]
  },
  {
   "cell_type": "code",
   "execution_count": null,
   "metadata": {},
   "outputs": [],
   "source": [
    "points_by_species: Dict[str, List[Vector]] = defaultdict(list)\n",
    "for iris in iris_data:\n",
    "    points_by_species[iris.label].append(iris.point)"
   ]
  },
  {
   "cell_type": "markdown",
   "metadata": {},
   "source": [
    "### scatter plot 그려보기(예습)"
   ]
  },
  {
   "cell_type": "code",
   "execution_count": null,
   "metadata": {},
   "outputs": [],
   "source": [
    "speList = list(points_by_species.keys())\n",
    "/print speList"
   ]
  },
  {
   "cell_type": "code",
   "execution_count": null,
   "metadata": {},
   "outputs": [],
   "source": [
    "col = 1\n",
    "row = 4\n",
    "totalPlot = 4\n",
    "metrics = ['sepal length', 'sepal width', 'petal length', 'petal width']"
   ]
  },
  {
   "cell_type": "code",
   "execution_count": null,
   "metadata": {},
   "outputs": [],
   "source": [
    "plt.figure(figsize=(20, 5))\n",
    "for index in range(1, totalPlot+1):\n",
    "    plotNumber = col*100 + row*10 + index\n",
    "    plt.subplot(plotNumber)\n",
    "    plt.title(metrics[index-1])\n",
    "    plt.xticks([1, 2, 3])\n",
    "    for i, species in enumerate(speList):\n",
    "        speData = points_by_species[species]\n",
    "        cateData = [data[index-1] for data in speData]\n",
    "        x = [i+1 for _ in range(len(cateData))]\n",
    "        plt.scatter(x, cateData)\n",
    "        plt.legend(['setosa', 'versicolor', 'virginica'])\n"
   ]
  },
  {
   "cell_type": "markdown",
   "metadata": {},
   "source": [
    "### Iris scatter plot"
   ]
  },
  {
   "cell_type": "code",
   "execution_count": null,
   "metadata": {},
   "outputs": [],
   "source": [
    "pairs = [(i, j) for i in range(4) for j in range(4) if i < j]"
   ]
  },
  {
   "cell_type": "code",
   "execution_count": null,
   "metadata": {},
   "outputs": [],
   "source": [
    "marks = ['+', '.', 'x']"
   ]
  },
  {
   "cell_type": "code",
   "execution_count": null,
   "metadata": {},
   "outputs": [],
   "source": [
    "fig, ax = plt.subplots(2, 3, figsize=(20, 10))\n",
    "# plt.subplots_adjust(hspace=.5, wspace=1)\n",
    "for row in range(2):\n",
    "    for col in range(3):\n",
    "        i, j = pairs[3*row+col]\n",
    "        ax[row][col].set_title(f\"{metrics[i]} vs. {metrics[j]}\", fontsize=12)\n",
    "        for mark, (species, points) in zip(marks, points_by_species.items()):\n",
    "            xs = [point[i] for point in points]\n",
    "            ys = [point[j] for point in points]\n",
    "            ax[row][col].scatter(xs, ys, marker=mark, label=species)\n",
    "fig.legend(['setosa', 'versicolor', 'virginica'], loc='upper center')\n",
    "plt.show()"
   ]
  },
  {
   "cell_type": "markdown",
   "metadata": {},
   "source": [
    "### 학습데이터와 평가데이터 분류"
   ]
  },
  {
   "cell_type": "code",
   "execution_count": null,
   "metadata": {},
   "outputs": [],
   "source": [
    "import random\n",
    "# from machine_learning import split_data #위에서 선언함... "
   ]
  },
  {
   "cell_type": "code",
   "execution_count": null,
   "metadata": {},
   "outputs": [],
   "source": [
    "random.seed(12)\n",
    "\n",
    "iris_train, iris_test = split_data(iris_data, 0.70)\n",
    "len(iris_train), len(iris_test)"
   ]
  },
  {
   "cell_type": "markdown",
   "metadata": {},
   "source": [
    "### 모델 평가"
   ]
  },
  {
   "cell_type": "code",
   "execution_count": null,
   "metadata": {},
   "outputs": [],
   "source": [
    "def knn_classify(k: int,\n",
    "                 labeled_points: List[LabeledPoint],\n",
    "                 new_point: Vector) -> str:\n",
    "    \n",
    "    # 레이블된 포인트를 가장 가까운 데이터부터 가장 먼 데이터 순서로 정렬\n",
    "    by_distance = sorted(labeled_points,\n",
    "                         key=lambda lp:distance(lp.point, new_point))\n",
    "    \n",
    "    # 가장 가까운 k 데이터 포인트의 레이블을 살펴보고\n",
    "    k_nearest_labels = [lp.label for lp in by_distance[:k]]\n",
    "    \n",
    "    # 투표한다.\n",
    "    return majority_vote(k_nearest_labels)"
   ]
  },
  {
   "cell_type": "code",
   "execution_count": null,
   "metadata": {},
   "outputs": [],
   "source": [
    "# knn_classify(5, iris_train, iris_test)"
   ]
  }
 ],
 "metadata": {
  "kernelspec": {
   "display_name": "Python 3",
   "language": "python",
   "name": "python3"
  },
  "language_info": {
   "codemirror_mode": {
    "name": "ipython",
    "version": 3
   },
   "file_extension": ".py",
   "mimetype": "text/x-python",
   "name": "python",
   "nbconvert_exporter": "python",
   "pygments_lexer": "ipython3",
   "version": "3.8.5"
  }
 },
 "nbformat": 4,
 "nbformat_minor": 4
}
